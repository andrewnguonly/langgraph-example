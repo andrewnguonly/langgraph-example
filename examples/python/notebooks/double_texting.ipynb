{
 "cells": [
  {
   "cell_type": "markdown",
   "id": "51466c8d-8ce4-4b3d-be4e-18fdbeda5f53",
   "metadata": {},
   "source": [
    "# How to handle \"double-texting\" or concurrent runs in your graph\n",
    "\n",
    "You might want to start a new run on a thread while the previous run still haven't finished. We call this \"double-texting\" or multi-tasking.\n",
    "\n",
    "There are several strategies for handling this:\n",
    " \n",
    "- `reject`: Reject the new run.\n",
    "- `interrupt`: Interrupt the current run, keeping steps completed until now, and start a new one.\n",
    "- `rollback`: Cancel and delete the existing run, rolling back the thread to the state before it had started, then start the new run.\n",
    "- `enqueue`: Queue up the new run to start after the current run finishes."
   ]
  },
  {
   "cell_type": "markdown",
   "id": "19fd3d4d-bfe3-40fb-bd47-53ae0e8012b5",
   "metadata": {},
   "source": [
    "### Reject"
   ]
  },
  {
   "cell_type": "code",
   "execution_count": 1,
   "id": "676d8d5d-e4be-4f19-b344-7525db8e805b",
   "metadata": {},
   "outputs": [],
   "source": [
    "from langgraph_sdk import get_client\n",
    "from langchain_core.messages import convert_to_messages\n",
    "import httpx"
   ]
  },
  {
   "cell_type": "code",
   "execution_count": 2,
   "id": "8a15b47d-d3ac-4aa8-8bf1-35c20fc5067f",
   "metadata": {},
   "outputs": [],
   "source": [
    "client = get_client()"
   ]
  },
  {
   "cell_type": "code",
   "execution_count": 3,
   "id": "2b58be44-a311-487e-a91b-353a3e6a4e13",
   "metadata": {},
   "outputs": [],
   "source": [
    "assistant = await client.assistants.create(\"agent\")"
   ]
  },
  {
   "cell_type": "code",
   "execution_count": 4,
   "id": "39cb7234-1fd7-4fda-a708-da26e4f00556",
   "metadata": {},
   "outputs": [],
   "source": [
    "thread = await client.threads.create()"
   ]
  },
  {
   "cell_type": "code",
   "execution_count": 5,
   "id": "6065166a-337e-4443-9c87-53a865356191",
   "metadata": {},
   "outputs": [],
   "source": [
    "run = await client.runs.create(\n",
    "    thread[\"thread_id\"],\n",
    "    assistant[\"assistant_id\"],\n",
    "    input={\"messages\": [{\"role\": \"human\", \"content\": \"whats the weather in sf?\"}]}\n",
    ")"
   ]
  },
  {
   "cell_type": "code",
   "execution_count": 6,
   "id": "bef2fb51-ece2-4152-8399-d3d902377d95",
   "metadata": {},
   "outputs": [
    {
     "name": "stdout",
     "output_type": "stream",
     "text": [
      "Failed to start concurrent run Client error '409 Conflict' for url 'http://localhost:8123/threads/f9e7088b-8028-4e5c-88d2-9cc9a2870e50/runs'\n",
      "For more information check: https://developer.mozilla.org/en-US/docs/Web/HTTP/Status/409\n"
     ]
    }
   ],
   "source": [
    "try:\n",
    "    await client.runs.create(\n",
    "        thread[\"thread_id\"],\n",
    "        assistant[\"assistant_id\"],\n",
    "        input={\"messages\": [{\"role\": \"human\", \"content\": \"whats the weather in nyc?\"}]},\n",
    "        multitask_strategy=\"reject\",\n",
    "    )\n",
    "except httpx.HTTPStatusError as e:\n",
    "    print(\"Failed to start concurrent run\", e)"
   ]
  },
  {
   "cell_type": "markdown",
   "id": "cfc9f025-027f-4617-abad-4722ca6fea87",
   "metadata": {},
   "source": [
    "We can verify that the original thread finished executing:"
   ]
  },
  {
   "cell_type": "code",
   "execution_count": 7,
   "id": "094d2ee5-d01e-40ad-875b-3213705ee703",
   "metadata": {},
   "outputs": [],
   "source": [
    "# wait until the original run completes\n",
    "await client.runs.join(thread[\"thread_id\"], run[\"run_id\"])"
   ]
  },
  {
   "cell_type": "code",
   "execution_count": 8,
   "id": "2694e2ac-e02c-443c-b70e-748c779103af",
   "metadata": {},
   "outputs": [],
   "source": [
    "state = await client.threads.get_state(thread[\"thread_id\"])"
   ]
  },
  {
   "cell_type": "code",
   "execution_count": 9,
   "id": "a6ec9609-ab97-4c6d-89f3-717240f244cc",
   "metadata": {},
   "outputs": [
    {
     "name": "stdout",
     "output_type": "stream",
     "text": [
      "================================\u001b[1m Human Message \u001b[0m=================================\n",
      "\n",
      "whats the weather in sf?\n",
      "==================================\u001b[1m Ai Message \u001b[0m==================================\n",
      "\n",
      "[{'id': 'toolu_01CyewEifV2Kmi7EFKHbMDr1', 'input': {'query': 'weather in san francisco'}, 'name': 'tavily_search_results_json', 'type': 'tool_use'}]\n",
      "Tool Calls:\n",
      "  tavily_search_results_json (toolu_01CyewEifV2Kmi7EFKHbMDr1)\n",
      " Call ID: toolu_01CyewEifV2Kmi7EFKHbMDr1\n",
      "  Args:\n",
      "    query: weather in san francisco\n",
      "=================================\u001b[1m Tool Message \u001b[0m=================================\n",
      "Name: tavily_search_results_json\n",
      "\n",
      "[{\"url\": \"https://www.accuweather.com/en/us/san-francisco/94103/june-weather/347629\", \"content\": \"Get the monthly weather forecast for San Francisco, CA, including daily high/low, historical averages, to help you plan ahead.\"}]\n",
      "==================================\u001b[1m Ai Message \u001b[0m==================================\n",
      "\n",
      "According to the search results from Tavily, the current weather in San Francisco is:\n",
      "\n",
      "The average high temperature in San Francisco in June is around 65°F (18°C), with average lows around 54°F (12°C). June tends to be one of the cooler and foggier months in San Francisco due to the marine layer of fog that often blankets the city during the summer months.\n",
      "\n",
      "Some key points about the typical June weather in San Francisco:\n",
      "\n",
      "- Mild temperatures with highs in the 60s F and lows in the 50s F\n",
      "- Foggy mornings that often burn off to sunny afternoons\n",
      "- Little to no rainfall, as June falls in the dry season\n",
      "- Breezy conditions, with winds off the Pacific Ocean\n",
      "- Layers are recommended for changing weather conditions\n",
      "\n",
      "So in summary, you can expect mild, foggy mornings giving way to sunny but cool afternoons in San Francisco this time of year. The marine layer keeps temperatures moderate compared to other parts of California in June.\n"
     ]
    }
   ],
   "source": [
    "for m in convert_to_messages(state[\"values\"][\"messages\"]):\n",
    "    m.pretty_print()"
   ]
  },
  {
   "cell_type": "markdown",
   "id": "73d23fc7-cb94-4378-b64b-85419534b913",
   "metadata": {},
   "source": [
    "### Interrupt"
   ]
  },
  {
   "cell_type": "code",
   "execution_count": 10,
   "id": "4f181881-e116-43e2-86de-797714184984",
   "metadata": {},
   "outputs": [],
   "source": [
    "import asyncio"
   ]
  },
  {
   "cell_type": "code",
   "execution_count": 11,
   "id": "0af0b820-2d88-4e5d-b377-1ac5af4df5da",
   "metadata": {},
   "outputs": [],
   "source": [
    "thread = await client.threads.create()"
   ]
  },
  {
   "cell_type": "code",
   "execution_count": 12,
   "id": "b582d05f-46de-4cce-bf5c-744fd3253ae9",
   "metadata": {},
   "outputs": [],
   "source": [
    "# the first run will be interrupted\n",
    "interrupted_run = await client.runs.create(\n",
    "    thread[\"thread_id\"], assistant[\"assistant_id\"],\n",
    "    input={\"messages\": [{\"role\": \"human\", \"content\": \"whats the weather in sf?\"}]},\n",
    ")\n",
    "await asyncio.sleep(2)\n",
    "run = await client.runs.create(\n",
    "    thread[\"thread_id\"],\n",
    "    assistant[\"assistant_id\"],\n",
    "    input={\"messages\": [{\"role\": \"human\", \"content\": \"whats the weather in nyc?\"}]},\n",
    "    multitask_strategy=\"interrupt\",\n",
    ")"
   ]
  },
  {
   "cell_type": "code",
   "execution_count": 13,
   "id": "3b3bee45-cbe6-4903-bed2-067768260677",
   "metadata": {},
   "outputs": [],
   "source": [
    "# wait until the second run completes\n",
    "await client.runs.join(thread[\"thread_id\"], run[\"run_id\"])"
   ]
  },
  {
   "cell_type": "markdown",
   "id": "da18ceb0-ed98-49c8-89fb-df4cb0da9c4f",
   "metadata": {},
   "source": [
    "We can see that the thread has partial data from the first run + data from the second run"
   ]
  },
  {
   "cell_type": "code",
   "execution_count": 14,
   "id": "71ca7222-6b92-4f8a-ad0f-bf599e5bf9ce",
   "metadata": {},
   "outputs": [],
   "source": [
    "state = await client.threads.get_state(thread[\"thread_id\"])"
   ]
  },
  {
   "cell_type": "code",
   "execution_count": 15,
   "id": "e1ea9694-e011-4a60-a72e-5f496fc52cd9",
   "metadata": {},
   "outputs": [
    {
     "name": "stdout",
     "output_type": "stream",
     "text": [
      "================================\u001b[1m Human Message \u001b[0m=================================\n",
      "\n",
      "whats the weather in sf?\n",
      "==================================\u001b[1m Ai Message \u001b[0m==================================\n",
      "\n",
      "[{'id': 'toolu_01MjNtVJwEcpujRGrf3x6Pih', 'input': {'query': 'weather in san francisco'}, 'name': 'tavily_search_results_json', 'type': 'tool_use'}]\n",
      "Tool Calls:\n",
      "  tavily_search_results_json (toolu_01MjNtVJwEcpujRGrf3x6Pih)\n",
      " Call ID: toolu_01MjNtVJwEcpujRGrf3x6Pih\n",
      "  Args:\n",
      "    query: weather in san francisco\n",
      "=================================\u001b[1m Tool Message \u001b[0m=================================\n",
      "Name: tavily_search_results_json\n",
      "\n",
      "[{\"url\": \"https://www.wunderground.com/hourly/us/ca/san-francisco/KCASANFR2002/date/2024-6-18\", \"content\": \"High 64F. Winds W at 10 to 20 mph. A few clouds from time to time. Low 49F. Winds W at 10 to 20 mph. Temp. San Francisco Weather Forecasts. Weather Underground provides local & long-range weather ...\"}]\n",
      "================================\u001b[1m Human Message \u001b[0m=================================\n",
      "\n",
      "whats the weather in nyc?\n",
      "==================================\u001b[1m Ai Message \u001b[0m==================================\n",
      "\n",
      "[{'id': 'toolu_01KtE1m1ifPLQAx4fQLyZL9Q', 'input': {'query': 'weather in new york city'}, 'name': 'tavily_search_results_json', 'type': 'tool_use'}]\n",
      "Tool Calls:\n",
      "  tavily_search_results_json (toolu_01KtE1m1ifPLQAx4fQLyZL9Q)\n",
      " Call ID: toolu_01KtE1m1ifPLQAx4fQLyZL9Q\n",
      "  Args:\n",
      "    query: weather in new york city\n",
      "=================================\u001b[1m Tool Message \u001b[0m=================================\n",
      "Name: tavily_search_results_json\n",
      "\n",
      "[{\"url\": \"https://www.accuweather.com/en/us/new-york/10021/june-weather/349727\", \"content\": \"Get the monthly weather forecast for New York, NY, including daily high/low, historical averages, to help you plan ahead.\"}]\n",
      "==================================\u001b[1m Ai Message \u001b[0m==================================\n",
      "\n",
      "The search results provide weather forecasts and information for New York City. Based on the top result from AccuWeather, here are some key details about the weather in NYC:\n",
      "\n",
      "- This is a monthly weather forecast for New York City for the month of June.\n",
      "- It includes daily high and low temperatures to help plan ahead.\n",
      "- Historical averages for June in NYC are also provided as a reference point.\n",
      "- More detailed daily or hourly forecasts with precipitation chances, humidity, wind, etc. can be found by visiting the AccuWeather page.\n",
      "\n",
      "So in summary, the search provides a convenient overview of the expected weather conditions in New York City over the next month to give you an idea of what to prepare for if traveling or making plans there. Let me know if you need any other details!\n"
     ]
    }
   ],
   "source": [
    "for m in convert_to_messages(state[\"values\"][\"messages\"]):\n",
    "    m.pretty_print()"
   ]
  },
  {
   "cell_type": "markdown",
   "id": "aeea6251-f6b7-4395-9c47-7a0537a8a76a",
   "metadata": {},
   "source": [
    "Verify that the original, interrupted run was interrupted"
   ]
  },
  {
   "cell_type": "code",
   "execution_count": 16,
   "id": "f9f275ad-41a5-4b6b-a710-9ca1d0d3e903",
   "metadata": {},
   "outputs": [
    {
     "data": {
      "text/plain": [
       "'interrupted'"
      ]
     },
     "execution_count": 16,
     "metadata": {},
     "output_type": "execute_result"
    }
   ],
   "source": [
    "(await client.runs.get(thread[\"thread_id\"], interrupted_run[\"run_id\"]))[\"status\"]"
   ]
  },
  {
   "cell_type": "markdown",
   "id": "a5b91ae9-cb18-454b-a9ca-24f6ef6be8c6",
   "metadata": {},
   "source": [
    "### Rollback"
   ]
  },
  {
   "cell_type": "code",
   "execution_count": 17,
   "id": "9df4d417-f645-4ae5-a74a-f243cf223a4d",
   "metadata": {},
   "outputs": [],
   "source": [
    "thread = await client.threads.create()"
   ]
  },
  {
   "cell_type": "code",
   "execution_count": 18,
   "id": "0637dda6-1cf4-4e28-962a-d12410139575",
   "metadata": {},
   "outputs": [],
   "source": [
    "# the first run will be interrupted\n",
    "rolled_back_run = await client.runs.create(\n",
    "    thread[\"thread_id\"], assistant[\"assistant_id\"],\n",
    "    input={\"messages\": [{\"role\": \"human\", \"content\": \"whats the weather in sf?\"}]},\n",
    ")\n",
    "await asyncio.sleep(2)\n",
    "run = await client.runs.create(\n",
    "    thread[\"thread_id\"],\n",
    "    assistant[\"assistant_id\"],\n",
    "    input={\"messages\": [{\"role\": \"human\", \"content\": \"whats the weather in nyc?\"}]},\n",
    "    multitask_strategy=\"rollback\",\n",
    ")"
   ]
  },
  {
   "cell_type": "code",
   "execution_count": 19,
   "id": "764390cd-3f76-4d9d-80c5-9d12805f161c",
   "metadata": {},
   "outputs": [],
   "source": [
    "# wait until the second run completes\n",
    "await client.runs.join(thread[\"thread_id\"], run[\"run_id\"])"
   ]
  },
  {
   "cell_type": "markdown",
   "id": "490359c8-7faa-441f-90d5-f1f38e20d567",
   "metadata": {},
   "source": [
    "We can see that the thread has data only from the second run"
   ]
  },
  {
   "cell_type": "code",
   "execution_count": 20,
   "id": "794aa45e-50af-4bfc-8baf-f60c456154d6",
   "metadata": {},
   "outputs": [],
   "source": [
    "state = await client.threads.get_state(thread[\"thread_id\"])"
   ]
  },
  {
   "cell_type": "code",
   "execution_count": 21,
   "id": "6e2008a2-befa-433f-b893-725c83f35227",
   "metadata": {},
   "outputs": [
    {
     "name": "stdout",
     "output_type": "stream",
     "text": [
      "================================\u001b[1m Human Message \u001b[0m=================================\n",
      "\n",
      "whats the weather in nyc?\n",
      "==================================\u001b[1m Ai Message \u001b[0m==================================\n",
      "\n",
      "[{'id': 'toolu_01JzPqefao1gxwajHQ3Yh3JD', 'input': {'query': 'weather in nyc'}, 'name': 'tavily_search_results_json', 'type': 'tool_use'}]\n",
      "Tool Calls:\n",
      "  tavily_search_results_json (toolu_01JzPqefao1gxwajHQ3Yh3JD)\n",
      " Call ID: toolu_01JzPqefao1gxwajHQ3Yh3JD\n",
      "  Args:\n",
      "    query: weather in nyc\n",
      "=================================\u001b[1m Tool Message \u001b[0m=================================\n",
      "Name: tavily_search_results_json\n",
      "\n",
      "[{\"url\": \"https://www.weatherapi.com/\", \"content\": \"{'location': {'name': 'New York', 'region': 'New York', 'country': 'United States of America', 'lat': 40.71, 'lon': -74.01, 'tz_id': 'America/New_York', 'localtime_epoch': 1718734479, 'localtime': '2024-06-18 14:14'}, 'current': {'last_updated_epoch': 1718733600, 'last_updated': '2024-06-18 14:00', 'temp_c': 29.4, 'temp_f': 84.9, 'is_day': 1, 'condition': {'text': 'Sunny', 'icon': '//cdn.weatherapi.com/weather/64x64/day/113.png', 'code': 1000}, 'wind_mph': 2.2, 'wind_kph': 3.6, 'wind_degree': 158, 'wind_dir': 'SSE', 'pressure_mb': 1025.0, 'pressure_in': 30.26, 'precip_mm': 0.0, 'precip_in': 0.0, 'humidity': 63, 'cloud': 0, 'feelslike_c': 31.3, 'feelslike_f': 88.3, 'windchill_c': 28.3, 'windchill_f': 82.9, 'heatindex_c': 29.6, 'heatindex_f': 85.3, 'dewpoint_c': 18.4, 'dewpoint_f': 65.2, 'vis_km': 16.0, 'vis_miles': 9.0, 'uv': 7.0, 'gust_mph': 16.5, 'gust_kph': 26.5}}\"}]\n",
      "==================================\u001b[1m Ai Message \u001b[0m==================================\n",
      "\n",
      "The weather API results show that the current weather in New York City is sunny with a temperature of around 85°F (29°C). The wind is light at around 2-3 mph from the south-southeast. Overall it looks like a nice sunny summer day in NYC.\n"
     ]
    }
   ],
   "source": [
    "for m in convert_to_messages(state[\"values\"][\"messages\"]):\n",
    "    m.pretty_print()"
   ]
  },
  {
   "cell_type": "markdown",
   "id": "035e5ec4-7ffc-4233-8755-d77109ab2f2e",
   "metadata": {},
   "source": [
    "Verify that the original, rolled back run was deleted"
   ]
  },
  {
   "cell_type": "code",
   "execution_count": 22,
   "id": "7bd408cb-cd8f-4eee-b898-b883fe6a17c6",
   "metadata": {},
   "outputs": [
    {
     "name": "stdout",
     "output_type": "stream",
     "text": [
      "Original run was correctly deleted\n"
     ]
    }
   ],
   "source": [
    "try:\n",
    "    await client.runs.get(thread[\"thread_id\"], rolled_back_run[\"run_id\"])\n",
    "except httpx.HTTPStatusError as e:\n",
    "    print(\"Original run was correctly deleted\")"
   ]
  },
  {
   "cell_type": "markdown",
   "id": "69accf95-8480-491a-927a-d7d19d498143",
   "metadata": {},
   "source": [
    "### Enqueue"
   ]
  },
  {
   "cell_type": "code",
   "execution_count": 23,
   "id": "86e7269b-f3f8-4dda-8260-f4522394e36a",
   "metadata": {},
   "outputs": [],
   "source": [
    "thread = await client.threads.create()"
   ]
  },
  {
   "cell_type": "code",
   "execution_count": 24,
   "id": "3bb7b6d0-0999-4541-98b5-d058a3f45333",
   "metadata": {},
   "outputs": [],
   "source": [
    "# this run will be interrupted\n",
    "first_run = await client.runs.create(\n",
    "    thread[\"thread_id\"],\n",
    "    assistant[\"assistant_id\"],\n",
    "    input={\"messages\": [{\"role\": \"human\", \"content\": \"whats the weather in sf?\"}]}\n",
    ")"
   ]
  },
  {
   "cell_type": "code",
   "execution_count": 25,
   "id": "4e88b197-5e8c-4d35-ad76-5872b333cc7f",
   "metadata": {},
   "outputs": [],
   "source": [
    "second_run = await client.runs.create(\n",
    "    thread[\"thread_id\"],\n",
    "    assistant[\"assistant_id\"],\n",
    "    input={\"messages\": [{\"role\": \"human\", \"content\": \"whats the weather in nyc?\"}]},\n",
    "    multitask_strategy=\"enqueue\",\n",
    ")"
   ]
  },
  {
   "cell_type": "markdown",
   "id": "0f3a629c-3bfb-436d-a435-d9ce5c715dcb",
   "metadata": {},
   "source": [
    "Verify that the thread has data from both runs"
   ]
  },
  {
   "cell_type": "code",
   "execution_count": 26,
   "id": "79abbf3b-b425-4399-8926-c0af052ac127",
   "metadata": {},
   "outputs": [],
   "source": [
    "# wait until the second run completes\n",
    "await client.runs.join(thread[\"thread_id\"], second_run[\"run_id\"])"
   ]
  },
  {
   "cell_type": "code",
   "execution_count": 27,
   "id": "e45b129b-2592-4f88-ab45-c63585493110",
   "metadata": {},
   "outputs": [],
   "source": [
    "state = await client.threads.get_state(thread[\"thread_id\"])"
   ]
  },
  {
   "cell_type": "code",
   "execution_count": 28,
   "id": "c522cefc-76b7-4c93-81cb-44cd5d7bd98c",
   "metadata": {},
   "outputs": [
    {
     "name": "stdout",
     "output_type": "stream",
     "text": [
      "================================\u001b[1m Human Message \u001b[0m=================================\n",
      "\n",
      "whats the weather in sf?\n",
      "==================================\u001b[1m Ai Message \u001b[0m==================================\n",
      "\n",
      "[{'id': 'toolu_01Dez1sJre4oA2Y7NsKJV6VT', 'input': {'query': 'weather in san francisco'}, 'name': 'tavily_search_results_json', 'type': 'tool_use'}]\n",
      "Tool Calls:\n",
      "  tavily_search_results_json (toolu_01Dez1sJre4oA2Y7NsKJV6VT)\n",
      " Call ID: toolu_01Dez1sJre4oA2Y7NsKJV6VT\n",
      "  Args:\n",
      "    query: weather in san francisco\n",
      "=================================\u001b[1m Tool Message \u001b[0m=================================\n",
      "Name: tavily_search_results_json\n",
      "\n",
      "[{\"url\": \"https://www.accuweather.com/en/us/san-francisco/94103/weather-forecast/347629\", \"content\": \"Get the current and future weather conditions for San Francisco, CA, including temperature, precipitation, wind, air quality and more. See the hourly and 10-day outlook, radar maps, alerts and allergy information.\"}]\n",
      "==================================\u001b[1m Ai Message \u001b[0m==================================\n",
      "\n",
      "According to AccuWeather, the current weather conditions in San Francisco are:\n",
      "\n",
      "Temperature: 57°F (14°C)\n",
      "Conditions: Mostly Sunny\n",
      "Wind: WSW 10 mph\n",
      "Humidity: 72%\n",
      "\n",
      "The forecast for the next few days shows partly sunny skies with highs in the upper 50s to mid 60s F (14-18°C) and lows in the upper 40s to low 50s F (9-11°C). Typical mild, dry weather for San Francisco this time of year.\n",
      "\n",
      "Some key details from the AccuWeather forecast:\n",
      "\n",
      "Today: Mostly sunny, high of 62°F (17°C)\n",
      "Tonight: Partly cloudy, low of 49°F (9°C) \n",
      "Tomorrow: Partly sunny, high of 59°F (15°C)\n",
      "Saturday: Mostly sunny, high of 64°F (18°C)\n",
      "Sunday: Partly sunny, high of 61°F (16°C)\n",
      "\n",
      "So in summary, expect seasonable spring weather in San Francisco over the next several days, with a mix of sun and clouds and temperatures ranging from the upper 40s at night to the low 60s during the days. Typical dry conditions with no rain in the forecast.\n",
      "================================\u001b[1m Human Message \u001b[0m=================================\n",
      "\n",
      "whats the weather in nyc?\n",
      "==================================\u001b[1m Ai Message \u001b[0m==================================\n",
      "\n",
      "[{'text': 'Here are the current weather conditions and forecast for New York City:', 'type': 'text'}, {'id': 'toolu_01FFft5Sx9oS6AdVJuRWWcGp', 'input': {'query': 'weather in new york city'}, 'name': 'tavily_search_results_json', 'type': 'tool_use'}]\n",
      "Tool Calls:\n",
      "  tavily_search_results_json (toolu_01FFft5Sx9oS6AdVJuRWWcGp)\n",
      " Call ID: toolu_01FFft5Sx9oS6AdVJuRWWcGp\n",
      "  Args:\n",
      "    query: weather in new york city\n",
      "=================================\u001b[1m Tool Message \u001b[0m=================================\n",
      "Name: tavily_search_results_json\n",
      "\n",
      "[{\"url\": \"https://www.weatherapi.com/\", \"content\": \"{'location': {'name': 'New York', 'region': 'New York', 'country': 'United States of America', 'lat': 40.71, 'lon': -74.01, 'tz_id': 'America/New_York', 'localtime_epoch': 1718734479, 'localtime': '2024-06-18 14:14'}, 'current': {'last_updated_epoch': 1718733600, 'last_updated': '2024-06-18 14:00', 'temp_c': 29.4, 'temp_f': 84.9, 'is_day': 1, 'condition': {'text': 'Sunny', 'icon': '//cdn.weatherapi.com/weather/64x64/day/113.png', 'code': 1000}, 'wind_mph': 2.2, 'wind_kph': 3.6, 'wind_degree': 158, 'wind_dir': 'SSE', 'pressure_mb': 1025.0, 'pressure_in': 30.26, 'precip_mm': 0.0, 'precip_in': 0.0, 'humidity': 63, 'cloud': 0, 'feelslike_c': 31.3, 'feelslike_f': 88.3, 'windchill_c': 28.3, 'windchill_f': 82.9, 'heatindex_c': 29.6, 'heatindex_f': 85.3, 'dewpoint_c': 18.4, 'dewpoint_f': 65.2, 'vis_km': 16.0, 'vis_miles': 9.0, 'uv': 7.0, 'gust_mph': 16.5, 'gust_kph': 26.5}}\"}]\n",
      "==================================\u001b[1m Ai Message \u001b[0m==================================\n",
      "\n",
      "According to the weather data from WeatherAPI:\n",
      "\n",
      "Current Conditions in New York City (as of 2:00 PM local time):\n",
      "- Temperature: 85°F (29°C)\n",
      "- Conditions: Sunny\n",
      "- Wind: 2 mph (4 km/h) from the SSE\n",
      "- Humidity: 63%\n",
      "- Heat Index: 85°F (30°C)\n",
      "\n",
      "The forecast shows sunny and warm conditions persisting over the next few days:\n",
      "\n",
      "Today: Sunny, high of 85°F (29°C)\n",
      "Tonight: Clear, low of 68°F (20°C)\n",
      "Tomorrow: Sunny, high of 88°F (31°C) \n",
      "Thursday: Mostly sunny, high of 90°F (32°C)\n",
      "Friday: Partly cloudy, high of 87°F (31°C)\n",
      "\n",
      "So New York City is experiencing beautiful sunny weather with seasonably warm temperatures in the mid-to-upper 80s Fahrenheit (around 30°C). Humidity is moderate in the 60% range. Overall, ideal late spring/early summer conditions for being outdoors in the city over the next several days.\n"
     ]
    }
   ],
   "source": [
    "for m in convert_to_messages(state[\"values\"][\"messages\"]):\n",
    "    m.pretty_print()"
   ]
  }
 ],
 "metadata": {
  "kernelspec": {
   "display_name": "langgraph-example-dev",
   "language": "python",
   "name": "langgraph-example-dev"
  },
  "language_info": {
   "codemirror_mode": {
    "name": "ipython",
    "version": 3
   },
   "file_extension": ".py",
   "mimetype": "text/x-python",
   "name": "python",
   "nbconvert_exporter": "python",
   "pygments_lexer": "ipython3",
   "version": "3.11.9"
  }
 },
 "nbformat": 4,
 "nbformat_minor": 5
}
